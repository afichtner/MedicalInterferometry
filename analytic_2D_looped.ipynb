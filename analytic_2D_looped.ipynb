{
 "cells": [
  {
   "cell_type": "code",
   "execution_count": null,
   "metadata": {},
   "outputs": [],
   "source": [
    "import numpy as np\n",
    "import analytic_2D_function as a2D"
   ]
  },
  {
   "cell_type": "code",
   "execution_count": null,
   "metadata": {
    "scrolled": true
   },
   "outputs": [],
   "source": [
    "nsrc=[300,350,400,450,500,750,1000,1500,2000]\n",
    "N=[10,50,100,200,500]\n",
    "\n",
    "ddtt_rel=np.zeros([len(N),len(nsrc)])\n",
    "\n",
    "for i in range(len(nsrc)):\n",
    "    for j in range(len(N)):\n",
    "        \n",
    "        print('N=%d, nsrc=%d' % (N[j],nsrc[i]))\n",
    "        \n",
    "        ddtt,ddtt_rel[j,i],dv=a2D.tt_error(nsrc=nsrc[i],N=N[j],L=100.0,freqmin=100.0e3, freqmax=500.0e3)"
   ]
  },
  {
   "cell_type": "code",
   "execution_count": null,
   "metadata": {},
   "outputs": [],
   "source": [
    "np.save('ddtt_500kHz.npy',ddtt_rel)\n",
    "\n",
    "import matplotlib.pyplot as plt\n",
    "\n",
    "plt.rcParams[\"font.family\"] = \"Times\"\n",
    "plt.rcParams.update({'font.size': 50})\n",
    "plt.rcParams['xtick.major.pad']='12'\n",
    "plt.rcParams['ytick.major.pad']='12'\n",
    "\n",
    "# Plot relative traveltime errors.\n",
    "\n",
    "fig,ax1=plt.subplots(1, figsize=(25,15))\n",
    "\n",
    "for i in range(len(N)):\n",
    "    \n",
    "    c=0.85-0.85*float(i)/float(n)\n",
    "    ax1.plot(nsrc,np.abs(ddtt_rel[i,:]),color=[c,c,c],linewidth=4)\n",
    "    ax1.text(1.01*nsrc[-1],np.abs(ddtt_rel[i,-1]),str(N[i]))\n",
    "\n",
    "ax1.set_xlabel('number of sources',labelpad=15)\n",
    "ax1.set_ylabel('rel. error [%]',labelpad=15)\n",
    "\n",
    "# Make secondary axis for velocity error.\n",
    "\n",
    "def tt2v(x): return 15.0*x\n",
    "def v2tt(x): return x/15.0\n",
    "secax=ax1.secondary_yaxis('right', functions=(tt2v, v2tt))\n",
    "secax.set_ylabel('vel. error [m/s]',labelpad=15)\n",
    "\n",
    "# Clean up figure.\n",
    "\n",
    "#ax1.set_ylim([0.0,0.2])\n",
    "ax1.set_xlim([0.9*nsrc[0],1.1*nsrc[-1]])\n",
    "\n",
    "plt.tight_layout()\n",
    "plt.grid()\n",
    "#plt.savefig('ddtt500kHz_large.png',format='png')\n",
    "plt.show()"
   ]
  },
  {
   "cell_type": "code",
   "execution_count": null,
   "metadata": {},
   "outputs": [],
   "source": [
    "for i in range(n):\n",
    "    avg=np.sum(np.abs(ddtt_rel[i,:]))/float(len(nsrc))\n",
    "    print('number of realisations: %d, average error: %f' % (N[i],avg))"
   ]
  }
 ],
 "metadata": {
  "kernelspec": {
   "display_name": "Python 3",
   "language": "python",
   "name": "python3"
  },
  "language_info": {
   "codemirror_mode": {
    "name": "ipython",
    "version": 3
   },
   "file_extension": ".py",
   "mimetype": "text/x-python",
   "name": "python",
   "nbconvert_exporter": "python",
   "pygments_lexer": "ipython3",
   "version": "3.6.10"
  }
 },
 "nbformat": 4,
 "nbformat_minor": 4
}
