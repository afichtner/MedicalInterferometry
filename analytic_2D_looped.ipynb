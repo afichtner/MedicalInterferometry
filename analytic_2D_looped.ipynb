{
 "cells": [
  {
   "cell_type": "code",
   "execution_count": null,
   "metadata": {},
   "outputs": [],
   "source": [
    "import time\n",
    "import numpy as np\n",
    "import matplotlib.pyplot as plt\n",
    "import analytic_2D_function as a2D\n",
    "\n",
    "plt.rcParams[\"font.family\"] = \"Times\"\n",
    "plt.rcParams.update({'font.size': 50})\n",
    "plt.rcParams['xtick.major.pad']='12'\n",
    "plt.rcParams['ytick.major.pad']='12'"
   ]
  },
  {
   "cell_type": "code",
   "execution_count": null,
   "metadata": {},
   "outputs": [],
   "source": [
    "# Looped input. ============================================\n",
    "\n",
    "# Number of sources to be tested.\n",
    "nsrc=[300,400,500,700]\n",
    "# Number of realisations to be tested.\n",
    "N=[10,50,100]\n",
    "# Number of repeats.\n",
    "Nr=50\n",
    "\n",
    "# Fixed input. =============================================\n",
    "\n",
    "# Number of transit times in the time series.\n",
    "L=100.0\n",
    "# Frequency band [Hz].\n",
    "freqmin=100.0e3\n",
    "freqmax=500.0e3"
   ]
  },
  {
   "cell_type": "code",
   "execution_count": null,
   "metadata": {
    "scrolled": true
   },
   "outputs": [],
   "source": [
    "# Loop over everything.\n",
    "\n",
    "ddtt_rel=np.zeros([len(N),len(nsrc),Nr])\n",
    "\n",
    "for r in range(Nr):\n",
    "    for i in range(len(nsrc)):\n",
    "        for j in range(len(N)):\n",
    "            \n",
    "            t1=time.time()\n",
    "            print('r=%d, nsrc=%d, N=%d' % (r,nsrc[i],N[j]))\n",
    "            ddtt,ddtt_rel[j,i,r],dv=a2D.tt_error(nsrc=nsrc[i],N=N[j],L=L,freqmin=freqmin, freqmax=freqmax)\n",
    "            print('absolute time shift error: %g ms' % ddtt )\n",
    "            print('relative time shift error: %g percent' % ddtt_rel[j,i,r])\n",
    "            print('velocity error: %g m/s' % dv)\n",
    "            t2=time.time()\n",
    "            print('elapsed time: %f s' % (t2-t1))\n",
    "            print('-----------------------------------------------------------')\n",
    "            "
   ]
  },
  {
   "cell_type": "code",
   "execution_count": null,
   "metadata": {},
   "outputs": [],
   "source": [
    "# Compute average traveltime difference error.\n",
    "\n",
    "ddtt_rel_avg=np.zeros([len(N),len(nsrc)])\n",
    "\n",
    "for i in range(len(nsrc)):\n",
    "    for j in range(len(N)):\n",
    "        ddtt_rel_avg[j,i]=np.sum(np.abs(ddtt_rel[j,i,:]))/float(Nr)\n",
    "        \n",
    "    \n",
    "# Plot relative traveltime errors.\n",
    "\n",
    "fig,ax1=plt.subplots(1, figsize=(25,15))\n",
    "\n",
    "for i in range(len(N)):\n",
    "    \n",
    "    c=0.85-0.85*float(i)/float(len(N))\n",
    "    \n",
    "    ax1.plot(nsrc,np.max(np.abs(ddtt_rel[i,:,:]),axis=1),'--',color=[c,c,c],linewidth=4)\n",
    "    ax1.plot(nsrc,np.abs(ddtt_rel_avg[i,:]),color=[c,c,c],linewidth=10)\n",
    "    ax1.text(1.01*nsrc[-1],np.abs(ddtt_rel_avg[i,-1]),str(N[i]))\n",
    "\n",
    "ax1.set_xlabel('number of sources',labelpad=15)\n",
    "ax1.set_ylabel('rel. time error [%]',labelpad=15)\n",
    "\n",
    "# Make secondary axis for velocity error.\n",
    "\n",
    "def tt2v(x): return 15.0*x\n",
    "def v2tt(x): return x/15.0\n",
    "secax=ax1.secondary_yaxis('right', functions=(tt2v, v2tt))\n",
    "secax.set_ylabel('vel. error [m/s]',labelpad=15)\n",
    "\n",
    "# Embellish figure.\n",
    "\n",
    "ax1.set_xlim([0.9*nsrc[0],1.1*nsrc[-1]])\n",
    "#ax1.set_ylim([0.0, 0.2])\n",
    "plt.tight_layout()\n",
    "plt.grid()\n",
    "plt.show()\n",
    "\n",
    "# Save figure and data.\n",
    "\n",
    "#plt.savefig('ddtt1000kHz.png',format='png')\n",
    "#np.save('ddtt_1000kHz.npy',ddtt_rel)"
   ]
  }
 ],
 "metadata": {
  "kernelspec": {
   "display_name": "Python 3",
   "language": "python",
   "name": "python3"
  },
  "language_info": {
   "codemirror_mode": {
    "name": "ipython",
    "version": 3
   },
   "file_extension": ".py",
   "mimetype": "text/x-python",
   "name": "python",
   "nbconvert_exporter": "python",
   "pygments_lexer": "ipython3",
   "version": "3.6.10"
  }
 },
 "nbformat": 4,
 "nbformat_minor": 4
}
